{
 "cells": [
  {
   "cell_type": "code",
   "execution_count": 1,
   "id": "1c67578d",
   "metadata": {},
   "outputs": [],
   "source": [
    "import os\n",
    "import json\n",
    "import time\n",
    "import math\n",
    "import matplotlib.pyplot as plt\n",
    "import numpy as np\n",
    "from core.data_processor import DataLoader\n",
    "from core.model import Model\n",
    "from keras.utils.vis_utils import plot_model\n",
    "\n",
    "\n",
    "# 绘图展示结果\n",
    "def plot_results(predicted_data, true_data):\n",
    "    fig = plt.figure(facecolor='white')\n",
    "    ax = fig.add_subplot(111)\n",
    "    ax.plot(true_data, label='True Data')\n",
    "    plt.plot(predicted_data, label='Prediction')\n",
    "    plt.legend()\n",
    "    plt.grid()\n",
    "    plt.show()\n",
    "    #plt.savefig('results_2.png')\n",
    "\n",
    "\n",
    "def plot_results_multiple(predicted_data, true_data, prediction_len):\n",
    "    fig = plt.figure(facecolor='white')\n",
    "    ax = fig.add_subplot(111)\n",
    "    ax.plot(true_data, label='True Data')\n",
    "    plt.legend()\n",
    "    for i, data in enumerate(predicted_data):\n",
    "        padding = [None for p in range(i * prediction_len)]\n",
    "        plt.plot(padding + data, label='Prediction')\n",
    "    plt.grid()\n",
    "    plt.show()\n",
    "    #plt.savefig('results_multiple_2.png')\n",
    "    \n",
    "def plot_results_multiple_onlypre(predicted_data, prediction_len):\n",
    "    fig = plt.figure(facecolor='white')\n",
    "    ax = fig.add_subplot(111)\n",
    "    #ax.plot(true_data, label='True Data')\n",
    "    plt.legend()\n",
    "    for i, data in enumerate(predicted_data):\n",
    "        padding = [None for p in range(i * prediction_len)]\n",
    "        plt.plot(padding + data, label='Prediction')\n",
    "    plt.grid()\n",
    "    plt.show()\n",
    "    #plt.savefig('results_multiple_2.png')"
   ]
  },
  {
   "cell_type": "code",
   "execution_count": 20,
   "id": "072df503",
   "metadata": {},
   "outputs": [
    {
     "name": "stdout",
     "output_type": "stream",
     "text": [
      "[Model] Loading model from file /home/shh/Desktop/LSTM_Final/saved_models/paper_revising/Multi_HIFI_30102023-125014-e100.h5\n"
     ]
    }
   ],
   "source": [
    "\n",
    "#创建RNN模型\n",
    "model = Model()\n",
    "#mymodel = model.build_model(configs)\n",
    "\n",
    "model_path = '/home/shh/Desktop/LSTM_Final/saved_models/paper_revising/Multi_HIFI_30102023-125014-e100.h5'\n",
    "model.load_model(filepath = model_path)\n",
    "#plot_model(mymodel, to_file='model.png',show_shapes=True)"
   ]
  },
  {
   "cell_type": "code",
   "execution_count": 21,
   "id": "c8b34f27",
   "metadata": {},
   "outputs": [
    {
     "name": "stdout",
     "output_type": "stream",
     "text": [
      "Model: \"sequential\"\n",
      "_________________________________________________________________\n",
      "Layer (type)                 Output Shape              Param #   \n",
      "=================================================================\n",
      "lstm (LSTM)                  (None, 639, 100)          44400     \n",
      "_________________________________________________________________\n",
      "dropout (Dropout)            (None, 639, 100)          0         \n",
      "_________________________________________________________________\n",
      "lstm_1 (LSTM)                (None, 639, 100)          80400     \n",
      "_________________________________________________________________\n",
      "lstm_2 (LSTM)                (None, 639, 100)          80400     \n",
      "_________________________________________________________________\n",
      "lstm_3 (LSTM)                (None, 639, 100)          80400     \n",
      "_________________________________________________________________\n",
      "lstm_4 (LSTM)                (None, 100)               80400     \n",
      "_________________________________________________________________\n",
      "dropout_1 (Dropout)          (None, 100)               0         \n",
      "_________________________________________________________________\n",
      "dense (Dense)                (None, 1)                 101       \n",
      "=================================================================\n",
      "Total params: 366,101\n",
      "Trainable params: 366,101\n",
      "Non-trainable params: 0\n",
      "_________________________________________________________________\n"
     ]
    }
   ],
   "source": [
    "model.model.summary()"
   ]
  },
  {
   "cell_type": "code",
   "execution_count": null,
   "id": "e657f8db",
   "metadata": {},
   "outputs": [],
   "source": []
  },
  {
   "cell_type": "code",
   "execution_count": null,
   "id": "d3d1f37c",
   "metadata": {},
   "outputs": [],
   "source": []
  }
 ],
 "metadata": {
  "kernelspec": {
   "display_name": "Python 3",
   "language": "python",
   "name": "python3"
  },
  "language_info": {
   "codemirror_mode": {
    "name": "ipython",
    "version": 3
   },
   "file_extension": ".py",
   "mimetype": "text/x-python",
   "name": "python",
   "nbconvert_exporter": "python",
   "pygments_lexer": "ipython3",
   "version": "3.6.13"
  }
 },
 "nbformat": 4,
 "nbformat_minor": 5
}
